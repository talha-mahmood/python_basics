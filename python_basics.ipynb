{
  "nbformat": 4,
  "nbformat_minor": 0,
  "metadata": {
    "colab": {
      "provenance": []
    },
    "kernelspec": {
      "name": "python3",
      "display_name": "Python 3"
    },
    "language_info": {
      "name": "python"
    }
  },
  "cells": [
    {
      "cell_type": "code",
      "execution_count": 1,
      "metadata": {
        "colab": {
          "base_uri": "https://localhost:8080/"
        },
        "id": "t6LKIdaL85dU",
        "outputId": "51ceb2a6-0e19-4083-998b-fd2ccf4bf0c8"
      },
      "outputs": [
        {
          "output_type": "stream",
          "name": "stdout",
          "text": [
            "Age: 21\n",
            "Height: 5.9\n",
            "Name: Alice\n",
            "Is Student: False\n",
            "Type of age: <class 'int'>\n",
            "Type of height: <class 'float'>\n",
            "Type of name: <class 'str'>\n",
            "Type of is_student: <class 'bool'>\n"
          ]
        }
      ],
      "source": [
        "# Assigning values to variables\n",
        "age = 21\n",
        "height = 5.9\n",
        "name = \"Alice\"\n",
        "is_student = False\n",
        "\n",
        "# Printing the values\n",
        "print(\"Age:\", age)\n",
        "print(\"Height:\", height)\n",
        "print(\"Name:\", name)\n",
        "print(\"Is Student:\", is_student)\n",
        "\n",
        "# Printing the data types of the variables\n",
        "print(\"Type of age:\", type(age))\n",
        "print(\"Type of height:\", type(height))\n",
        "print(\"Type of name:\", type(name))\n",
        "print(\"Type of is_student:\", type(is_student))\n"
      ]
    },
    {
      "cell_type": "code",
      "source": [
        "# Assigning values to variables\n",
        "x = 10\n",
        "y = 3\n",
        "a = 4.5\n",
        "b = 2.5\n",
        "\n",
        "# Performing operations on x and y\n",
        "print(\"Sum of x and y:\", x + y)\n",
        "print(\"Difference of x and y:\", x - y)\n",
        "print(\"Product of x and y:\", x * y)\n",
        "print(\"Quotient of x and y:\", x / y)\n",
        "\n",
        "# Calculating and printing the average of a and b\n",
        "average = (a + b) / 2\n",
        "print(\"Average of a and b:\", average)\n"
      ],
      "metadata": {
        "colab": {
          "base_uri": "https://localhost:8080/"
        },
        "id": "-2VOPBqs9WIU",
        "outputId": "9c8abb3b-0c1d-476f-9dd7-520c22175c3d"
      },
      "execution_count": 2,
      "outputs": [
        {
          "output_type": "stream",
          "name": "stdout",
          "text": [
            "Sum of x and y: 13\n",
            "Difference of x and y: 7\n",
            "Product of x and y: 30\n",
            "Quotient of x and y: 3.3333333333333335\n",
            "Average of a and b: 3.5\n"
          ]
        }
      ]
    },
    {
      "cell_type": "code",
      "source": [
        "# Assigning values to variables\n",
        "first_name = \"John\"\n",
        "last_name = \"Doe\"\n",
        "\n",
        "# Concatenating first_name and last_name with a space\n",
        "full_name = first_name + \" \" + last_name\n",
        "print(\"Full Name:\", full_name)\n",
        "\n",
        "# Printing the length of full_name\n",
        "print(\"Length of Full Name:\", len(full_name))\n",
        "\n",
        "# Converting full_name to uppercase\n",
        "upper_full_name = full_name.upper()\n",
        "print(\"Full Name in Uppercase:\", upper_full_name)\n"
      ],
      "metadata": {
        "colab": {
          "base_uri": "https://localhost:8080/"
        },
        "id": "QoeM4q7Y9WUV",
        "outputId": "5bd7a4ce-8f4b-46b9-afc6-d6a08d877e47"
      },
      "execution_count": 3,
      "outputs": [
        {
          "output_type": "stream",
          "name": "stdout",
          "text": [
            "Full Name: John Doe\n",
            "Length of Full Name: 8\n",
            "Full Name in Uppercase: JOHN DOE\n"
          ]
        }
      ]
    },
    {
      "cell_type": "code",
      "source": [
        "# Assigning values to variables\n",
        "is_raining = True\n",
        "is_sunny = False\n",
        "temperature = 25\n",
        "\n",
        "# Checking boolean expressions\n",
        "print(\"Is it raining and not sunny?\", is_raining and not is_sunny)\n",
        "print(\"Is the temperature greater than 20 and sunny?\", temperature > 20 and is_sunny)\n"
      ],
      "metadata": {
        "colab": {
          "base_uri": "https://localhost:8080/"
        },
        "id": "rv9XGfjA9WYO",
        "outputId": "c1529275-6e5a-49a6-b4fa-7bcf042bfdfa"
      },
      "execution_count": 4,
      "outputs": [
        {
          "output_type": "stream",
          "name": "stdout",
          "text": [
            "Is it raining and not sunny? True\n",
            "Is the temperature greater than 20 and sunny? False\n"
          ]
        }
      ]
    },
    {
      "cell_type": "code",
      "source": [
        "# Integer to float\n",
        "int_value = 42\n",
        "float_value = float(int_value)\n",
        "print(\"Integer to float:\", float_value)\n",
        "\n",
        "# Float to integer\n",
        "float_value = 3.14\n",
        "int_value = int(float_value)\n",
        "print(\"Float to integer:\", int_value)\n",
        "\n",
        "# String to integer\n",
        "string_value = \"123\"\n",
        "int_value = int(string_value)\n",
        "print(\"String to integer:\", int_value)\n",
        "\n",
        "# String to float\n",
        "string_value = \"123.45\"\n",
        "float_value = float(string_value)\n",
        "print(\"String to float:\", float_value)\n"
      ],
      "metadata": {
        "colab": {
          "base_uri": "https://localhost:8080/"
        },
        "id": "LtzhlD-J9Wbd",
        "outputId": "d3e75c13-3eb7-4dd6-b6b5-bc8c60f413ef"
      },
      "execution_count": 5,
      "outputs": [
        {
          "output_type": "stream",
          "name": "stdout",
          "text": [
            "Integer to float: 42.0\n",
            "Float to integer: 3\n",
            "String to integer: 123\n",
            "String to float: 123.45\n"
          ]
        }
      ]
    },
    {
      "cell_type": "code",
      "source": [
        "# Assigning different types of values to the variable var and printing their types\n",
        "var = 42\n",
        "print(\"Type of var (42):\", type(var))\n",
        "\n",
        "var = 3.14\n",
        "print(\"Type of var (3.14):\", type(var))\n",
        "\n",
        "var = \"Data Science\"\n",
        "print(\"Type of var (\\\"Data Science\\\"):\", type(var))\n",
        "\n",
        "var = False\n",
        "print(\"Type of var (False):\", type(var))\n"
      ],
      "metadata": {
        "colab": {
          "base_uri": "https://localhost:8080/"
        },
        "id": "Mx4Be1Nd9oIS",
        "outputId": "461efacf-1a4c-4330-9a94-5fc21bfdf0e2"
      },
      "execution_count": 6,
      "outputs": [
        {
          "output_type": "stream",
          "name": "stdout",
          "text": [
            "Type of var (42): <class 'int'>\n",
            "Type of var (3.14): <class 'float'>\n",
            "Type of var (\"Data Science\"): <class 'str'>\n",
            "Type of var (False): <class 'bool'>\n"
          ]
        }
      ]
    },
    {
      "cell_type": "code",
      "source": [
        "# Assigning values to variables\n",
        "integer_value = 25\n",
        "float_value = 3.14\n",
        "string_value = \"Hello, Python!\"\n",
        "boolean_value = True\n",
        "\n",
        "# Printing the values\n",
        "print(\"Integer Value:\", integer_value)\n",
        "print(\"Float Value:\", float_value)\n",
        "print(\"String Value:\", string_value)\n",
        "print(\"Boolean Value:\", boolean_value)\n"
      ],
      "metadata": {
        "colab": {
          "base_uri": "https://localhost:8080/"
        },
        "id": "HsprQr5O9uw1",
        "outputId": "438c48f7-cf4d-47cb-e002-e590008bf7c2"
      },
      "execution_count": 7,
      "outputs": [
        {
          "output_type": "stream",
          "name": "stdout",
          "text": [
            "Integer Value: 25\n",
            "Float Value: 3.14\n",
            "String Value: Hello, Python!\n",
            "Boolean Value: True\n"
          ]
        }
      ]
    },
    {
      "cell_type": "code",
      "source": [],
      "metadata": {
        "id": "yrwQH4QO9oME"
      },
      "execution_count": null,
      "outputs": []
    }
  ]
}